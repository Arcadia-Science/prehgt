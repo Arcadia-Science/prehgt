{
 "cells": [
  {
   "cell_type": "markdown",
   "id": "ed47ceb0",
   "metadata": {},
   "source": [
    "This notebook first determines\n",
    "1. the number of Eukaryotic GenBank genomes that have gene models (`CDS_from_genomic`) available for download\n",
    "2. the number of phyla that have gene models"
   ]
  },
  {
   "cell_type": "code",
   "execution_count": 5,
   "id": "dc6a33cb",
   "metadata": {},
   "outputs": [],
   "source": [
    "setwd(\"..\")"
   ]
  },
  {
   "cell_type": "code",
   "execution_count": 6,
   "id": "0e42948a",
   "metadata": {},
   "outputs": [],
   "source": [
    "library(readr)\n",
    "library(dplyr, warn.conflicts = F)\n",
    "library(purrr)\n",
    "library(tidyr)\n",
    "library(janitor, warn.conflicts = F)\n",
    "library(taxize)\n",
    "library(ggplot2)\n",
    "library(ggforce)"
   ]
  },
  {
   "cell_type": "markdown",
   "id": "35c26b53",
   "metadata": {},
   "source": [
    "## GenBank genomes with gene models\n",
    "\n",
    "The genbank `annotation_hashes.txt` file has a columns named \"Features hash\" and \"Proteins name hash.\"\n",
    "When the values of either of those columns are \"D41D8CD98F00B204E9800998ECF8427E\", that indicates the file does not exist."
   ]
  },
  {
   "cell_type": "code",
   "execution_count": 3,
   "id": "e42bab8e",
   "metadata": {},
   "outputs": [],
   "source": [
    "# don't spam NCBI and get IP blocked; delays the read_tsv function by 6 seconds\n",
    "slowly_read_tsv <- slowly(read_tsv, rate = rate_delay(6))"
   ]
  },
  {
   "cell_type": "code",
   "execution_count": 4,
   "id": "03cec689",
   "metadata": {},
   "outputs": [],
   "source": [
    "# generate urls to download\n",
    "genbank_url_prefix <- \"https://ftp.ncbi.nlm.nih.gov/genomes/genbank/\"\n",
    "genbank_groups <- c(\"plant\", \"fungi\", \"invertebrate\", \"protozoa\", \"vertebrate_mammalian\", \"vertebrate_other\")\n",
    "annotation_hashes_urls <- paste0(genbank_url_prefix, genbank_groups, \"/annotation_hashes.txt\")\n",
    "assembly_summaries_urls <- paste0(genbank_url_prefix, genbank_groups, \"/assembly_summary.txt\")"
   ]
  },
  {
   "cell_type": "code",
   "execution_count": 5,
   "id": "f709989e",
   "metadata": {},
   "outputs": [],
   "source": [
    "annotation_hashes <- annotation_hashes_urls %>%\n",
    "  set_names()  %>%   # set names (interacts with .id below to use the URL as the genbank_group col)\n",
    "  map_dfr(slowly_read_tsv, show_col_types = F, .id = \"genbank_group\",) %>%  # read in each TSV from NCBI, pausing for 6 seconds after each run\n",
    "  clean_names() %>%  # clean column names (captilization, spacing, etc.)\n",
    "  mutate(genbank_group = gsub(genbank_url_prefix, \"\", genbank_group),\n",
    "         genbank_group = gsub(\"/annotation_hashes.txt\", \"\", genbank_group)) # clean genbank_group to remove URL cruft leaving the group names themselves"
   ]
  },
  {
   "cell_type": "code",
   "execution_count": 6,
   "id": "8eb198d3",
   "metadata": {},
   "outputs": [
    {
     "data": {
      "text/plain": [
       "\n",
       "FALSE  TRUE \n",
       " 7276 27044 "
      ]
     },
     "metadata": {},
     "output_type": "display_data"
    },
    {
     "data": {
      "text/plain": [
       "\n",
       "FALSE  TRUE \n",
       " 6179 27721 "
      ]
     },
     "metadata": {},
     "output_type": "display_data"
    }
   ],
   "source": [
    "does_not_exist_hash <- \"D41D8CD98F00B204E9800998ECF8427E\"\n",
    "table(annotation_hashes$features_hash == does_not_exist_hash)\n",
    "table(annotation_hashes$protein_names_hash == does_not_exist_hash)"
   ]
  },
  {
   "cell_type": "code",
   "execution_count": 9,
   "id": "e0d61924",
   "metadata": {},
   "outputs": [
    {
     "data": {
      "text/html": [
       "0.212004662004662"
      ],
      "text/latex": [
       "0.212004662004662"
      ],
      "text/markdown": [
       "0.212004662004662"
      ],
      "text/plain": [
       "[1] 0.2120047"
      ]
     },
     "metadata": {},
     "output_type": "display_data"
    }
   ],
   "source": [
    "# what percentage of genomes in GenBank have gene models?\n",
    "7276/(7276+27044)"
   ]
  },
  {
   "cell_type": "code",
   "execution_count": 10,
   "id": "e4425c9c",
   "metadata": {},
   "outputs": [
    {
     "name": "stderr",
     "output_type": "stream",
     "text": [
      "Warning message:\n",
      "“\u001b[1m\u001b[22mOne or more parsing issues, call `problems()` on your data frame for details, e.g.:\n",
      "  dat <- vroom(...)\n",
      "  problems(dat)”\n"
     ]
    }
   ],
   "source": [
    "# get metadata, including organism name, for GenBank genomes\n",
    "assembly_summaries <- assembly_summaries_urls %>%\n",
    "  set_names() %>% # set names (interacts with .id below to use the URL as the genbank_group col)\n",
    "  map_dfr(slowly_read_tsv, .id = \"genbank_group\", skip = 1, show_col_types = F) %>% # read in each TSV from NCBI, pausing for 6 seconds after each run\n",
    "  mutate(genbank_group = gsub(genbank_url_prefix, \"\", genbank_group),\n",
    "         genbank_group = gsub(\"/assembly_summary.txt\", \"\", genbank_group)) # clean genbank_group to remove URL cruft leaving the group names themselves"
   ]
  },
  {
   "cell_type": "code",
   "execution_count": 13,
   "id": "ff8ba6e8",
   "metadata": {},
   "outputs": [],
   "source": [
    "genbank_genomes <- left_join(annotation_hashes, assembly_summaries, by = c(\"number_assembly_accession\" = \"#assembly_accession\", \"genbank_group\"))\n",
    "genbank_genomes_cds <- genbank_genomes %>%\n",
    "  filter(features_hash != does_not_exist_hash)"
   ]
  },
  {
   "cell_type": "code",
   "execution_count": 14,
   "id": "b1d4880b",
   "metadata": {},
   "outputs": [
    {
     "data": {
      "text/html": [
       "34320"
      ],
      "text/latex": [
       "34320"
      ],
      "text/markdown": [
       "34320"
      ],
      "text/plain": [
       "[1] 34320"
      ]
     },
     "metadata": {},
     "output_type": "display_data"
    },
    {
     "data": {
      "text/html": [
       "7276"
      ],
      "text/latex": [
       "7276"
      ],
      "text/markdown": [
       "7276"
      ],
      "text/plain": [
       "[1] 7276"
      ]
     },
     "metadata": {},
     "output_type": "display_data"
    }
   ],
   "source": [
    "nrow(genbank_genomes)\n",
    "nrow(genbank_genomes_cds)"
   ]
  },
  {
   "cell_type": "markdown",
   "id": "25f305ce",
   "metadata": {},
   "source": [
    "# Get taxonomy information from taxonkit"
   ]
  },
  {
   "cell_type": "code",
   "execution_count": 22,
   "id": "545257ab",
   "metadata": {},
   "outputs": [],
   "source": [
    "# taxonkit version 0.14.2\n",
    "system('taxonkit reformat -I 15 -f \"{k};{K};{p};{c};{o};{f};{g};{s};{t}\" --data-dir sandbox/try_blast -o sandbox/count_phyla_with_gene_models/20230630_genbank_genomes_lineages.tsv inputs/20230630_genbank_genomes.tsv.gz')"
   ]
  },
  {
   "cell_type": "markdown",
   "id": "9386e960",
   "metadata": {},
   "source": [
    "# Analyze"
   ]
  },
  {
   "cell_type": "code",
   "execution_count": 11,
   "id": "8e16fe9c",
   "metadata": {},
   "outputs": [
    {
     "name": "stderr",
     "output_type": "stream",
     "text": [
      "\u001b[1m\u001b[22mNew names:\n",
      "\u001b[36m•\u001b[39m `` -> `...48`\n"
     ]
    }
   ],
   "source": [
    "lineages <- read_tsv(\"sandbox/count_phyla_with_gene_models/20230630_genbank_genomes_lineages.tsv\", show_col_types = F) %>%\n",
    "  rename(lineage = `...48`) %>%\n",
    "  separate(lineage, into = c(\"superkingdom\", \"kingdom\", \"phylum\", \"class\", \"order\", \"family\", \"genus\", \"species\", \"strain\"), sep = \";\")"
   ]
  },
  {
   "cell_type": "code",
   "execution_count": 13,
   "id": "c7b4893e",
   "metadata": {},
   "outputs": [
    {
     "data": {
      "text/html": [
       "56"
      ],
      "text/latex": [
       "56"
      ],
      "text/markdown": [
       "56"
      ],
      "text/plain": [
       "[1] 56"
      ]
     },
     "metadata": {},
     "output_type": "display_data"
    }
   ],
   "source": [
    "# how many phyla are there?\n",
    "length(unique(lineages$phylum))"
   ]
  },
  {
   "cell_type": "code",
   "execution_count": 20,
   "id": "d439bb66",
   "metadata": {},
   "outputs": [
    {
     "data": {
      "text/html": [
       "45"
      ],
      "text/latex": [
       "45"
      ],
      "text/markdown": [
       "45"
      ],
      "text/plain": [
       "[1] 45"
      ]
     },
     "metadata": {},
     "output_type": "display_data"
    }
   ],
   "source": [
    "# how many phyla have at least one genome with gene models?\n",
    "lineages_gene_models <- lineages %>% \n",
    "  filter(features_hash != does_not_exist_hash)\n",
    "length(unique(lineages_gene_models$phylum))"
   ]
  },
  {
   "cell_type": "code",
   "execution_count": 21,
   "id": "8b65be0c",
   "metadata": {},
   "outputs": [
    {
     "data": {
      "text/plain": [
       "R version 4.3.0 (2023-04-21)\n",
       "Platform: x86_64-apple-darwin13.4.0 (64-bit)\n",
       "Running under: macOS Big Sur ... 10.16\n",
       "\n",
       "Matrix products: default\n",
       "BLAS/LAPACK: /Users/taylorreiter/miniconda3/envs/tidyjupyter/lib/libopenblasp-r0.3.23.dylib;  LAPACK version 3.11.0\n",
       "\n",
       "locale:\n",
       "[1] en_US.UTF-8/en_US.UTF-8/en_US.UTF-8/C/en_US.UTF-8/en_US.UTF-8\n",
       "\n",
       "time zone: America/New_York\n",
       "tzcode source: system (macOS)\n",
       "\n",
       "attached base packages:\n",
       "[1] stats     graphics  grDevices utils     datasets  methods   base     \n",
       "\n",
       "other attached packages:\n",
       "[1] ggforce_0.4.1  ggplot2_3.4.2  taxize_0.9.100 janitor_2.2.0  tidyr_1.3.0   \n",
       "[6] purrr_1.0.1    dplyr_1.1.2    readr_2.1.4   \n",
       "\n",
       "loaded via a namespace (and not attached):\n",
       " [1] utf8_1.2.3        generics_0.1.3    xml2_1.3.4        stringi_1.7.12   \n",
       " [5] lattice_0.21-8    httpcode_0.3.0    hms_1.1.3         digest_0.6.31    \n",
       " [9] magrittr_2.0.3    evaluate_0.21     grid_4.3.0        timechange_0.2.0 \n",
       "[13] pbdZMQ_0.3-9      iterators_1.0.14  fastmap_1.1.1     foreach_1.5.2    \n",
       "[17] jsonlite_1.8.7    ape_5.7-1         crul_1.4.0        fansi_1.0.4      \n",
       "[21] scales_1.2.1      tweenr_2.0.2      codetools_0.2-19  cli_3.6.1        \n",
       "[25] rlang_1.1.1       crayon_1.5.2      polyclip_1.10-4   bit64_4.0.5      \n",
       "[29] munsell_0.5.0     withr_2.5.0       base64enc_0.1-3   repr_1.1.6       \n",
       "[33] tools_4.3.0       parallel_4.3.0    tzdb_0.4.0        uuid_1.1-0       \n",
       "[37] colorspace_2.1-0  bold_1.3.0        curl_5.0.1        IRdisplay_1.1    \n",
       "[41] vctrs_0.6.3       R6_2.5.1          zoo_1.8-12        lifecycle_1.0.3  \n",
       "[45] lubridate_1.9.2   snakecase_0.11.0  stringr_1.5.0     bit_4.0.5        \n",
       "[49] vroom_1.6.3       MASS_7.3-60       pkgconfig_2.0.3   gtable_0.3.3     \n",
       "[53] pillar_1.9.0      glue_1.6.2        data.table_1.14.8 Rcpp_1.0.10      \n",
       "[57] tibble_3.2.1      tidyselect_1.2.0  IRkernel_1.3.2    farver_2.1.1     \n",
       "[61] htmltools_0.5.5   nlme_3.1-162      compiler_4.3.0    conditionz_0.1.0 "
      ]
     },
     "metadata": {},
     "output_type": "display_data"
    }
   ],
   "source": [
    "sessionInfo()"
   ]
  },
  {
   "cell_type": "code",
   "execution_count": null,
   "id": "6a198d98",
   "metadata": {},
   "outputs": [],
   "source": []
  }
 ],
 "metadata": {
  "kernelspec": {
   "display_name": "R",
   "language": "R",
   "name": "ir"
  },
  "language_info": {
   "codemirror_mode": "r",
   "file_extension": ".r",
   "mimetype": "text/x-r-source",
   "name": "R",
   "pygments_lexer": "r",
   "version": "4.3.0"
  }
 },
 "nbformat": 4,
 "nbformat_minor": 5
}
