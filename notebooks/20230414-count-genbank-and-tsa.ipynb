{
 "cells": [
  {
   "cell_type": "markdown",
   "id": "e3814fb2",
   "metadata": {},
   "source": [
    "# Get total possible input organisms in GenBank and TSA"
   ]
  },
  {
   "cell_type": "code",
   "execution_count": 1,
   "id": "d2ac5229",
   "metadata": {},
   "outputs": [],
   "source": [
    "library(readr)\n",
    "library(dplyr, warn.conflicts = F)"
   ]
  },
  {
   "cell_type": "code",
   "execution_count": 2,
   "id": "de499fa7",
   "metadata": {},
   "outputs": [],
   "source": [
    "setwd(\"..\")"
   ]
  },
  {
   "cell_type": "code",
   "execution_count": 3,
   "id": "b6a39113",
   "metadata": {},
   "outputs": [
    {
     "name": "stdout",
     "output_type": "stream",
     "text": [
      "[1] \"There are 8703 transcriptomes in the TSA representing 6077 organisms.\"\n"
     ]
    }
   ],
   "source": [
    "tsa <- read_tsv(\"inputs/20230227_tsa.tsv.gz\", show_col_types = F)\n",
    "\n",
    "print(paste0(\"There are \", nrow(tsa), \n",
    "      \" transcriptomes in the TSA representing \", \n",
    "      length(unique(tsa$organism_an)),\n",
    "      \" organisms.\"))"
   ]
  },
  {
   "cell_type": "code",
   "execution_count": 4,
   "id": "8a722e04",
   "metadata": {},
   "outputs": [
    {
     "name": "stdout",
     "output_type": "stream",
     "text": [
      "[1] \"There are 6730 genomes in GenBank with gene models, representing 4072 organisms.\"\n"
     ]
    }
   ],
   "source": [
    "genbank <- read_tsv(\"inputs/20230227_genbank_genomes_cds.tsv.gz\", show_col_types = F)\n",
    "\n",
    "print(paste0(\"There are \", nrow(genbank), \n",
    "      \" genomes in GenBank with gene models, representing \", \n",
    "      length(unique(genbank$organism_name)),\n",
    "      \" organisms.\"))"
   ]
  },
  {
   "cell_type": "code",
   "execution_count": 5,
   "id": "926b6cdd",
   "metadata": {},
   "outputs": [
    {
     "name": "stdout",
     "output_type": "stream",
     "text": [
      "[1] \"There are a total of 9763 organisms between GenBank and the TSA\"\n"
     ]
    }
   ],
   "source": [
    "print(paste0(\"There are a total of \",\n",
    "             length(unique(c(genbank$organism_name, tsa$organism_an))),\n",
    "             \" organisms between GenBank and the TSA\"))"
   ]
  },
  {
   "cell_type": "code",
   "execution_count": 6,
   "id": "bf5cca83",
   "metadata": {},
   "outputs": [
    {
     "data": {
      "text/plain": [
       "R version 4.2.1 (2022-06-23)\n",
       "Platform: x86_64-apple-darwin13.4.0 (64-bit)\n",
       "Running under: macOS Big Sur ... 10.16\n",
       "\n",
       "Matrix products: default\n",
       "BLAS/LAPACK: /Users/taylorreiter/miniconda3/envs/tidyjupyter/lib/libopenblasp-r0.3.21.dylib\n",
       "\n",
       "locale:\n",
       "[1] en_US.UTF-8/en_US.UTF-8/en_US.UTF-8/C/en_US.UTF-8/en_US.UTF-8\n",
       "\n",
       "attached base packages:\n",
       "[1] stats     graphics  grDevices utils     datasets  methods   base     \n",
       "\n",
       "other attached packages:\n",
       "[1] dplyr_1.0.10 readr_2.1.3 \n",
       "\n",
       "loaded via a namespace (and not attached):\n",
       " [1] magrittr_2.0.3   hms_1.1.2        bit_4.0.5        tidyselect_1.2.0\n",
       " [5] uuid_1.1-0       R6_2.5.1         rlang_1.0.6      fastmap_1.1.0   \n",
       " [9] fansi_1.0.3      tools_4.2.1      parallel_4.2.1   vroom_1.6.0     \n",
       "[13] utf8_1.2.2       DBI_1.1.3        cli_3.6.0        htmltools_0.5.4 \n",
       "[17] ellipsis_0.3.2   bit64_4.0.5      assertthat_0.2.1 digest_0.6.31   \n",
       "[21] tibble_3.1.8     lifecycle_1.0.3  crayon_1.5.2     IRdisplay_1.1   \n",
       "[25] tzdb_0.3.0       repr_1.1.4       base64enc_0.1-3  vctrs_0.5.1     \n",
       "[29] IRkernel_1.3     glue_1.6.2       evaluate_0.20    pbdZMQ_0.3-7    \n",
       "[33] compiler_4.2.1   pillar_1.8.1     generics_0.1.3   jsonlite_1.8.4  \n",
       "[37] pkgconfig_2.0.3 "
      ]
     },
     "metadata": {},
     "output_type": "display_data"
    }
   ],
   "source": [
    "sessionInfo()"
   ]
  },
  {
   "cell_type": "code",
   "execution_count": null,
   "id": "1e9ecbdd",
   "metadata": {},
   "outputs": [],
   "source": []
  }
 ],
 "metadata": {
  "kernelspec": {
   "display_name": "R",
   "language": "R",
   "name": "ir"
  },
  "language_info": {
   "codemirror_mode": "r",
   "file_extension": ".r",
   "mimetype": "text/x-r-source",
   "name": "R",
   "pygments_lexer": "r",
   "version": "4.2.1"
  }
 },
 "nbformat": 4,
 "nbformat_minor": 5
}
