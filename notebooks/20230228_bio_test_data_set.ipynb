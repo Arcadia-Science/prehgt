{
 "cells": [
  {
   "cell_type": "markdown",
   "id": "8b05cdcd",
   "metadata": {},
   "source": [
    "This notebook creates a metadata file for a biological test data set for pipeline development.\n",
    "The metadata can be used as input to the snakemake pipeline for identifying recent horizontal gene transfer.\n",
    "It focuses on fungi genera of interest to Arcadians.\n",
    "\n",
    "This notebook runs on files that are produced by the notebook `notebooks/20230227-genomes-and-transcriptomes.ipynb`, but all input files have been added to the repository."
   ]
  },
  {
   "cell_type": "code",
   "execution_count": 1,
   "id": "405ad1c2",
   "metadata": {},
   "outputs": [],
   "source": [
    "setwd(\"..\")"
   ]
  },
  {
   "cell_type": "code",
   "execution_count": 2,
   "id": "38437bc2",
   "metadata": {},
   "outputs": [],
   "source": [
    "library(readr)\n",
    "library(tidyr)\n",
    "library(dplyr, warn.conflicts = F)"
   ]
  },
  {
   "cell_type": "code",
   "execution_count": 3,
   "id": "319010a2",
   "metadata": {},
   "outputs": [],
   "source": [
    "tsa <- read_tsv(\"inputs/20230227_tsa.tsv.gz\", show_col_types = F)\n",
    "genbank_genomes_cds <- read_tsv(\"inputs/20230227_genbank_genomes_cds.tsv.gz\", show_col_types = F)"
   ]
  },
  {
   "cell_type": "code",
   "execution_count": 4,
   "id": "6791e512",
   "metadata": {},
   "outputs": [],
   "source": [
    "emilys_organisms <- c(\"Amanita muscaria\", \"Fomitopsis pinicola\", \"Ganoderma polychromum\",\n",
    "                      \"Hericium erinaceus\", \"Pleurotus columbinus\", \"Pleurotus djamor\", \n",
    "                      \"Pleurotus ostreatus\", \"Trametes veriscolor\", \"Stropharia rugosoannulata\",\n",
    "                      \"Agrocybe aegerita\", \"Psilocybe cubensis\", \"Psilocybe cyanescens\",\n",
    "                      \"Claviceps purpurea\", \"Epichloe hybrida\", \"Erynia aphidis\",\n",
    "                      \"Ophiocordyceps caloceroides\", \"Entomophaga grylli\",\n",
    "                      \"Ophiocordyceps amazonica\", \"Pandora formicae\",\n",
    "                      \"Termitomyces titanicus\", \"Termitomyces eurrhizus\",\n",
    "                      \"Termitomyces reticulatus\", \"Cordyceps\")\n",
    "emilys_genera <- gsub(\" .*\", \"\", emilys_organisms) %>% unique()"
   ]
  },
  {
   "cell_type": "code",
   "execution_count": 5,
   "id": "1b9d4341",
   "metadata": {},
   "outputs": [
    {
     "name": "stdout",
     "output_type": "stream",
     "text": [
      "\u001b[34m══\u001b[39m  1 queries  \u001b[34m═══════════════\u001b[39m\n"
     ]
    },
    {
     "name": "stderr",
     "output_type": "stream",
     "text": [
      "\n",
      "Retrieving data for taxon 'Pandora formicae'\n",
      "\n",
      "\n"
     ]
    },
    {
     "name": "stdout",
     "output_type": "stream",
     "text": [
      "\u001b[32m✔  Found: \u001b[39m Pandora+formicae\n",
      "\u001b[90m══\u001b[39m  Results  \u001b[90m═════════════════\u001b[39m\n",
      "\n",
      "• Total: \u001b[32m1\u001b[39m \n",
      "• Found: \u001b[32m1\u001b[39m \n",
      "• Not Found: \u001b[32m0\u001b[39m\n"
     ]
    }
   ],
   "source": [
    "# add a transcriptome that was mislabelled as a metagenome\n",
    "tsa2 <- read_csv(\"inputs/20230228_wgs_selector.csv.gz\", show_col_types = F) %>%\n",
    "  mutate(organism_an = gsub(\"insect metagenome\", \"Pandora formicae\", organism_an))\n",
    "tax <- taxize::classification(tsa2$organism_an, db = \"ncbi\")"
   ]
  },
  {
   "cell_type": "code",
   "execution_count": 6,
   "id": "a2d920da",
   "metadata": {},
   "outputs": [],
   "source": [
    "# transform the tax_list object into a long-formatted data frame\n",
    "# some NCBI taxonomies have a bunch of clades, so the filter command only keeps the main lineage levels\n",
    "tax_long <- tax %>%\n",
    "  purrr::imap(~mutate(.x, batch = .y)) %>%\n",
    "  bind_rows() %>%\n",
    "  filter(rank %in% c(\"superkingdom\", \"kingdom\", \"phylum\", \"subphylum\", \"class\", \n",
    "                     \"order\", \"family\", \"genus\", \"species\"))\n",
    "\n",
    "# make a wide-formatted data frame with lineage names recorded\n",
    "tax_names <- tax_long %>%\n",
    "  select(name, rank, batch) %>%\n",
    "  pivot_wider(id_cols = batch, names_from = rank, values_from = name) %>%\n",
    "  select(batch, superkingdom, kingdom, phylum, subphylum, class,\n",
    "         order, family, genus, species)\n",
    "\n",
    "tsa2 <- left_join(tsa2, tax_names, by = c(\"organism_an\" = \"batch\"))"
   ]
  },
  {
   "cell_type": "code",
   "execution_count": 7,
   "id": "eed08d46",
   "metadata": {
    "scrolled": true
   },
   "outputs": [],
   "source": [
    "tsa <- bind_rows(tsa, tsa2)"
   ]
  },
  {
   "cell_type": "code",
   "execution_count": 8,
   "id": "87b8ffb8",
   "metadata": {},
   "outputs": [],
   "source": [
    "tsa_filtered <- tsa %>%\n",
    "  filter(genus %in% emilys_genera)     # keep only genera we are interested in\n",
    "\n",
    "tsa_filtered_formatted <- tsa_filtered %>%\n",
    "  mutate(source = \"transcriptome\") %>% # add a column to designate these accessions as transcriptomes\n",
    "  select(organism_name = organism_an, accession = prefix_s, source,\n",
    "         superkingdom, kingdom, phylum, subphylum, class, subclass, \n",
    "         order, suborder, superfamily, family, genus, species) # select a subset of columns"
   ]
  },
  {
   "cell_type": "code",
   "execution_count": 9,
   "id": "1fc4dcf4",
   "metadata": {},
   "outputs": [],
   "source": [
    "genbank_genomes_cds_filtered <- genbank_genomes_cds %>%\n",
    "  filter(genus %in% emilys_genera) # keep only genera we are interested in\n",
    "\n",
    "genbank_genomes_cds_filtered_formatted <- genbank_genomes_cds_filtered %>%\n",
    "  mutate(source = \"genome\") %>%    # add a column to designate these accessions as genomes\n",
    "  select(organism_name, accession = number_assembly_accession, source,\n",
    "         superkingdom, kingdom, phylum, subphylum, class, subclass, \n",
    "         order, suborder, superfamily, family, genus, species) # select a subset of columns"
   ]
  },
  {
   "cell_type": "code",
   "execution_count": 10,
   "id": "b3932fa5",
   "metadata": {},
   "outputs": [
    {
     "data": {
      "text/html": [
       "<table class=\"dataframe\">\n",
       "<caption>A tibble: 14 × 2</caption>\n",
       "<thead>\n",
       "\t<tr><th scope=col>genus</th><th scope=col>n</th></tr>\n",
       "\t<tr><th scope=col>&lt;chr&gt;</th><th scope=col>&lt;int&gt;</th></tr>\n",
       "</thead>\n",
       "<tbody>\n",
       "\t<tr><td>Agrocybe      </td><td> 4</td></tr>\n",
       "\t<tr><td>Amanita       </td><td> 6</td></tr>\n",
       "\t<tr><td>Claviceps     </td><td>51</td></tr>\n",
       "\t<tr><td>Cordyceps     </td><td> 7</td></tr>\n",
       "\t<tr><td>Epichloe      </td><td> 3</td></tr>\n",
       "\t<tr><td>Fomitopsis    </td><td> 2</td></tr>\n",
       "\t<tr><td>Ganoderma     </td><td> 2</td></tr>\n",
       "\t<tr><td>Hericium      </td><td> 2</td></tr>\n",
       "\t<tr><td>Ophiocordyceps</td><td>12</td></tr>\n",
       "\t<tr><td>Pandora       </td><td> 1</td></tr>\n",
       "\t<tr><td>Pleurotus     </td><td>11</td></tr>\n",
       "\t<tr><td>Psilocybe     </td><td> 4</td></tr>\n",
       "\t<tr><td>Termitomyces  </td><td>17</td></tr>\n",
       "\t<tr><td>Trametes      </td><td>15</td></tr>\n",
       "</tbody>\n",
       "</table>\n"
      ],
      "text/latex": [
       "A tibble: 14 × 2\n",
       "\\begin{tabular}{ll}\n",
       " genus & n\\\\\n",
       " <chr> & <int>\\\\\n",
       "\\hline\n",
       "\t Agrocybe       &  4\\\\\n",
       "\t Amanita        &  6\\\\\n",
       "\t Claviceps      & 51\\\\\n",
       "\t Cordyceps      &  7\\\\\n",
       "\t Epichloe       &  3\\\\\n",
       "\t Fomitopsis     &  2\\\\\n",
       "\t Ganoderma      &  2\\\\\n",
       "\t Hericium       &  2\\\\\n",
       "\t Ophiocordyceps & 12\\\\\n",
       "\t Pandora        &  1\\\\\n",
       "\t Pleurotus      & 11\\\\\n",
       "\t Psilocybe      &  4\\\\\n",
       "\t Termitomyces   & 17\\\\\n",
       "\t Trametes       & 15\\\\\n",
       "\\end{tabular}\n"
      ],
      "text/markdown": [
       "\n",
       "A tibble: 14 × 2\n",
       "\n",
       "| genus &lt;chr&gt; | n &lt;int&gt; |\n",
       "|---|---|\n",
       "| Agrocybe       |  4 |\n",
       "| Amanita        |  6 |\n",
       "| Claviceps      | 51 |\n",
       "| Cordyceps      |  7 |\n",
       "| Epichloe       |  3 |\n",
       "| Fomitopsis     |  2 |\n",
       "| Ganoderma      |  2 |\n",
       "| Hericium       |  2 |\n",
       "| Ophiocordyceps | 12 |\n",
       "| Pandora        |  1 |\n",
       "| Pleurotus      | 11 |\n",
       "| Psilocybe      |  4 |\n",
       "| Termitomyces   | 17 |\n",
       "| Trametes       | 15 |\n",
       "\n"
      ],
      "text/plain": [
       "   genus          n \n",
       "1  Agrocybe        4\n",
       "2  Amanita         6\n",
       "3  Claviceps      51\n",
       "4  Cordyceps       7\n",
       "5  Epichloe        3\n",
       "6  Fomitopsis      2\n",
       "7  Ganoderma       2\n",
       "8  Hericium        2\n",
       "9  Ophiocordyceps 12\n",
       "10 Pandora         1\n",
       "11 Pleurotus      11\n",
       "12 Psilocybe       4\n",
       "13 Termitomyces   17\n",
       "14 Trametes       15"
      ]
     },
     "metadata": {},
     "output_type": "display_data"
    }
   ],
   "source": [
    "# combine metadata for transcriptomes and genomes\n",
    "out <- bind_rows(tsa_filtered_formatted, genbank_genomes_cds_filtered_formatted)\n",
    "\n",
    "# summarize how many observations we have for each genus of interest\n",
    "out %>%\n",
    "  group_by(genus) %>% \n",
    "  tally()"
   ]
  },
  {
   "cell_type": "code",
   "execution_count": 11,
   "id": "71341bca",
   "metadata": {},
   "outputs": [],
   "source": [
    "write_tsv(out, \"inputs/candidate_fungi_for_bio_test_data_set.tsv\")"
   ]
  },
  {
   "cell_type": "code",
   "execution_count": 12,
   "id": "a6a4d375",
   "metadata": {},
   "outputs": [
    {
     "data": {
      "text/plain": [
       "R version 4.1.3 (2022-03-10)\n",
       "Platform: x86_64-apple-darwin13.4.0 (64-bit)\n",
       "Running under: macOS Big Sur/Monterey 10.16\n",
       "\n",
       "Matrix products: default\n",
       "BLAS/LAPACK: /Users/taylorreiter/miniconda3/envs/pltenv/lib/libopenblasp-r0.3.21.dylib\n",
       "\n",
       "locale:\n",
       "[1] en_US.UTF-8/en_US.UTF-8/en_US.UTF-8/C/en_US.UTF-8/en_US.UTF-8\n",
       "\n",
       "attached base packages:\n",
       "[1] stats     graphics  grDevices utils     datasets  methods   base     \n",
       "\n",
       "other attached packages:\n",
       "[1] dplyr_1.1.0 tidyr_1.3.0 readr_2.1.3\n",
       "\n",
       "loaded via a namespace (and not attached):\n",
       " [1] pbdZMQ_0.3-8      zoo_1.8-11        tidyselect_1.2.0  repr_1.1.5       \n",
       " [5] taxize_0.9.100    purrr_1.0.1       lattice_0.20-45   vctrs_0.5.2      \n",
       " [9] generics_0.1.3    htmltools_0.5.4   base64enc_0.1-3   utf8_1.2.3       \n",
       "[13] rlang_1.0.6       pillar_1.8.1      glue_1.6.2        httpcode_0.3.0   \n",
       "[17] withr_2.5.0       bit64_4.0.5       uuid_1.1-0        foreach_1.5.2    \n",
       "[21] lifecycle_1.0.3   plyr_1.8.8        stringr_1.5.0     codetools_0.2-18 \n",
       "[25] evaluate_0.20     tzdb_0.3.0        fastmap_1.1.0     parallel_4.1.3   \n",
       "[29] curl_5.0.0        fansi_1.0.4       triebeard_0.3.0   urltools_1.7.3   \n",
       "[33] IRdisplay_1.1     Rcpp_1.0.10       IRkernel_1.3.1    vroom_1.6.1      \n",
       "[37] jsonlite_1.8.4    bit_4.0.5         hms_1.1.2         digest_0.6.31    \n",
       "[41] stringi_1.7.12    grid_4.1.3        cli_3.6.0         tools_4.1.3      \n",
       "[45] magrittr_2.0.3    tibble_3.1.8      bold_1.2.0        crul_1.3         \n",
       "[49] crayon_1.5.2      ape_5.6-2         pkgconfig_2.0.3   ellipsis_0.3.2   \n",
       "[53] data.table_1.14.6 xml2_1.3.3        reshape_0.8.9     iterators_1.0.14 \n",
       "[57] R6_2.5.1          conditionz_0.1.0  nlme_3.1-161      compiler_4.1.3   "
      ]
     },
     "metadata": {},
     "output_type": "display_data"
    }
   ],
   "source": [
    "sessionInfo()"
   ]
  },
  {
   "cell_type": "code",
   "execution_count": null,
   "id": "ff9cf0d4",
   "metadata": {},
   "outputs": [],
   "source": []
  }
 ],
 "metadata": {
  "kernelspec": {
   "display_name": "R",
   "language": "R",
   "name": "ir"
  },
  "language_info": {
   "codemirror_mode": "r",
   "file_extension": ".r",
   "mimetype": "text/x-r-source",
   "name": "R",
   "pygments_lexer": "r",
   "version": "4.1.3"
  }
 },
 "nbformat": 4,
 "nbformat_minor": 5
}
